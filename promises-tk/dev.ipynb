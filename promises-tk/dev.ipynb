{
 "cells": [
  {
   "cell_type": "code",
   "execution_count": 1,
   "metadata": {},
   "outputs": [
    {
     "data": {
      "text/plain": [
       "Promise { \u001b[36m<pending>\u001b[39m }"
      ]
     },
     "execution_count": 1,
     "metadata": {},
     "output_type": "execute_result"
    },
    {
     "name": "stdout",
     "output_type": "stream",
     "text": [
      "Pushing hello Next Promise: {\n",
      "  current: Promise {\n",
      "    <pending>,\n",
      "    resolve: [Function: resolve],\n",
      "    reject: [Function: reject],\n",
      "    status: \"pending\"\n",
      "  }\n",
      "}\n",
      "Done\n"
     ]
    }
   ],
   "source": [
    "import { managedPromise } from './src/managed-promise.ts'\n",
    "import { managedAsync } from './src/managed-async.ts'\n",
    "import { delay } from './src/time.ts';\n",
    "\n",
    "const stream = managedAsync<string>()\n",
    "\n",
    "delay(2).then(() => stream.push('hello'))\n",
    "await stream.next().then(() => console.log('Done'))"
   ]
  }
 ],
 "metadata": {
  "kernelspec": {
   "display_name": "Deno",
   "language": "typescript",
   "name": "deno"
  },
  "language_info": {
   "name": "typescript"
  }
 },
 "nbformat": 4,
 "nbformat_minor": 2
}
